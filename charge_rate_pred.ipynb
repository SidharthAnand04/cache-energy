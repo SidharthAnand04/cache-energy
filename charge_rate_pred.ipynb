{
 "cells": [
  {
   "cell_type": "code",
   "execution_count": 87,
   "metadata": {},
   "outputs": [],
   "source": [
    "import numpy as np\n",
    "import pandas as pd\n",
    "import requests\n",
    "import random\n",
    "\n",
    "# FVtyMiv9TXSjy0x4O9xmVYE2iksnAlYeEXPaD2sm"
   ]
  },
  {
   "cell_type": "code",
   "execution_count": 88,
   "metadata": {},
   "outputs": [],
   "source": [
    "eia_api_key = 'FVtyMiv9TXSjy0x4O9xmVYE2iksnAlYeEXPaD2sm'"
   ]
  },
  {
   "cell_type": "code",
   "execution_count": 89,
   "metadata": {},
   "outputs": [],
   "source": [
    "# api_url = f'https://api.eia.gov/v2/electricity/rto/region-data/data/?frequency=hourly&data[0]=value&sort[0][column]=period&sort[0][direction]=desc&offset=0&length=5000&api_key={eia_api_key}'\n",
    "\n",
    "# headers = {\n",
    "#     \"X-Params\": '{\"frequency\": \"hourly\", \"data\": [\"value\"], \"facets\": {}, \"start\": \"2022-10-01T00\", \"end\": \"2023-10-01T00\", \"sort\": [{\"column\": \"period\", \"direction\": \"desc\"}], \"offset\": 0, \"length\": 5000}'\n",
    "# }\n",
    "\n",
    "# response = requests.get(api_url, headers=headers)\n",
    "\n",
    "# if response.status_code == 200:\n",
    "#     data = response.json()\n",
    "\n",
    "# else:\n",
    "#     print(f\"Error: {response.status_code} - {response.text}\")"
   ]
  },
  {
   "cell_type": "code",
   "execution_count": 90,
   "metadata": {},
   "outputs": [],
   "source": [
    "# locations = []\n",
    "# types = [item['type-name'] for item in data[\"response\"][\"data\"] if item['type-name'] == 'Demand']\n",
    "\n",
    "# Demand = [item[\"value\"] for item in data[\"response\"][\"data\"] if item['type-name'] == 'Demand']\n",
    "\n",
    "# Total_interchange = [item[\"value\"] for item in data[\"response\"][\"data\"] if item['type-name'] == 'Total Interchange']\n",
    "\n",
    "# Net_generation = [item[\"value\"] for item in data[\"response\"][\"data\"] if item['type-name'] == 'Net Generation']\n",
    "\n",
    "# Day_ahead = [item[\"value\"] for item in data[\"response\"][\"data\"] if item['type-name'] == 'Day-ahead Demand Forecast']\n",
    "\n",
    "\n",
    "\n",
    "# all_values = [item[\"type-name\"] for item in data[\"response\"][\"data\"]]\n",
    "\n",
    "\n",
    "# desired_responses = [\"Day-ahead demand forecast\", \"Net generation\", \"Demand\", \"Total interchange\"]\n",
    "\n",
    "# # Create separate lists for each response\n",
    "# response_data = {}\n",
    "# for response in desired_responses:\n",
    "#     response_data[response] = [item[\"value\"] for item in data[\"response\"][\"data\"] if item['type-name'] == response]\n",
    "\n",
    "# # Print the data for each response\n",
    "# for response, values in response_data.items():\n",
    "#     print(response)\n",
    "#     for value in values:\n",
    "#         print(value)\n",
    "#     print('\\n')\n",
    "\n",
    "# # for value in all_values:\n",
    "# #   print(value)\n",
    "\n",
    "# # for i, (type, value) in enumerate(zip(types, Demand)):\n",
    "# #   print(i, type, value)\n",
    "# #   print('\\n')\n",
    "# #print(types, values)"
   ]
  },
  {
   "cell_type": "code",
   "execution_count": 91,
   "metadata": {},
   "outputs": [
    {
     "name": "stdout",
     "output_type": "stream",
     "text": [
      "        Type  Demand  Total Interchange  Net Generation  \\\n",
      "0     Demand     301                NaN             NaN   \n",
      "1     Demand    1255                NaN             NaN   \n",
      "2     Demand    5553                NaN             NaN   \n",
      "3     Demand   12774                NaN             NaN   \n",
      "4     Demand     169                NaN             NaN   \n",
      "...      ...     ...                ...             ...   \n",
      "1201  Demand    4300                NaN             NaN   \n",
      "1202  Demand     204                NaN             NaN   \n",
      "1203  Demand   28913                NaN             NaN   \n",
      "1204  Demand   30636                NaN             NaN   \n",
      "1205  Demand    3780                NaN             NaN   \n",
      "\n",
      "      Day-ahead Demand Forecast  \n",
      "0                           NaN  \n",
      "1                           NaN  \n",
      "2                           NaN  \n",
      "3                           NaN  \n",
      "4                           NaN  \n",
      "...                         ...  \n",
      "1201                        NaN  \n",
      "1202                        NaN  \n",
      "1203                        NaN  \n",
      "1204                        NaN  \n",
      "1205                        NaN  \n",
      "\n",
      "[1206 rows x 5 columns]\n"
     ]
    }
   ],
   "source": [
    "max_len = max(len(types), len(Demand), len(Total_interchange), len(Net_generation), len(Day_ahead))\n",
    "\n",
    "# Pad lists with NaN to make them of the same length\n",
    "def pad_list(lst, length):\n",
    "    if len(lst) < length:\n",
    "        return lst + [np.nan] * (length - len(lst))\n",
    "    return lst\n",
    "\n",
    "types = pad_list(types, max_len)\n",
    "Demand = pad_list(Demand, max_len)\n",
    "Total_interchange = pad_list(Total_interchange, max_len)\n",
    "Net_generation = pad_list(Net_generation, max_len)\n",
    "Day_ahead = pad_list(Day_ahead, max_len)\n",
    "\n",
    "# Create the DataFrame\n",
    "data = {\n",
    "    'Type': types,\n",
    "    'Demand': Demand,\n",
    "    'Total Interchange': Total_interchange,\n",
    "    'Net Generation': Net_generation,\n",
    "    'Day-ahead Demand Forecast': Day_ahead\n",
    "}\n",
    "\n",
    "df = pd.DataFrame(data)\n",
    "\n",
    "# Print the DataFrame\n",
    "print(df)"
   ]
  },
  {
   "cell_type": "code",
   "execution_count": 92,
   "metadata": {},
   "outputs": [],
   "source": [
    "import pandas as pd\n",
    "import numpy as np"
   ]
  },
  {
   "cell_type": "code",
   "execution_count": 93,
   "metadata": {},
   "outputs": [
    {
     "name": "stderr",
     "output_type": "stream",
     "text": [
      "/var/folders/7d/hyzwnh6n6_533550djz9zsbc0000gn/T/ipykernel_62730/2066472169.py:1: DtypeWarning: Columns (15,16,17,18,19,21,22,23,25,26,27,29,30,31,32,33,34,35,36,38,39,40) have mixed types. Specify dtype option on import or set low_memory=False.\n",
      "  df = pd.read_csv(\"EIA930_BALANCE_2023_Jul_Dec(3).csv\")\n"
     ]
    }
   ],
   "source": [
    "df = pd.read_csv(\"EIA930_BALANCE_2023_Jul_Dec(3).csv\")\n",
    "df = df.loc[:, 'Data Date':'Total Interchange (MW)']"
   ]
  },
  {
   "cell_type": "code",
   "execution_count": 94,
   "metadata": {},
   "outputs": [],
   "source": [
    "def generate_fake_cost():\n",
    "    # Generate random values around $50 with some variation\n",
    "    base_cost = 50\n",
    "    variation = random.uniform(-20, 20) # Varaition, can adjust\n",
    "    return base_cost + variation\n",
    "\n",
    "# Create the 'Electricity Cost ($)' column with fake data\n",
    "df['Electricity Cost ($)'] = [generate_fake_cost() for _ in range(len(df))]"
   ]
  },
  {
   "cell_type": "code",
   "execution_count": 95,
   "metadata": {},
   "outputs": [],
   "source": [
    "def calculate_charging_rate(electricity_cost, median_cost):\n",
    "    #Calculate deviation from the median\n",
    "    deviation = electricity_cost - median_cost\n",
    "    \n",
    "    #Charge faster when cost is below the median, slower when above\n",
    "    if deviation < 0:\n",
    "        return 1.0  # Charge at full rate\n",
    "    else:\n",
    "        return max(0.2, 0.2 + (1.0 - 0.2) * (1 - deviation / median_cost))  # Linearly decrease charging rate as cost deviates\n",
    "\n",
    "# Calculate the median electricity cost\n",
    "median_cost = df['Electricity Cost ($)'].median()\n",
    "\n",
    "df['Charging Rate'] = df['Electricity Cost ($)'].apply(lambda x: calculate_charging_rate(x, median_cost))"
   ]
  },
  {
   "cell_type": "code",
   "execution_count": 99,
   "metadata": {},
   "outputs": [
    {
     "data": {
      "text/html": [
       "<div>\n",
       "<style scoped>\n",
       "    .dataframe tbody tr th:only-of-type {\n",
       "        vertical-align: middle;\n",
       "    }\n",
       "\n",
       "    .dataframe tbody tr th {\n",
       "        vertical-align: top;\n",
       "    }\n",
       "\n",
       "    .dataframe thead th {\n",
       "        text-align: right;\n",
       "    }\n",
       "</style>\n",
       "<table border=\"1\" class=\"dataframe\">\n",
       "  <thead>\n",
       "    <tr style=\"text-align: right;\">\n",
       "      <th></th>\n",
       "      <th>Data Date</th>\n",
       "      <th>Hour Number</th>\n",
       "      <th>Local Time at End of Hour</th>\n",
       "      <th>UTC Time at End of Hour</th>\n",
       "      <th>Demand Forecast (MW)</th>\n",
       "      <th>Demand (MW)</th>\n",
       "      <th>Net Generation (MW)</th>\n",
       "      <th>Total Interchange (MW)</th>\n",
       "      <th>Electricity Cost ($)</th>\n",
       "      <th>Charging Rate</th>\n",
       "    </tr>\n",
       "  </thead>\n",
       "  <tbody>\n",
       "    <tr>\n",
       "      <th>0</th>\n",
       "      <td>07/01/2023</td>\n",
       "      <td>1</td>\n",
       "      <td>07/01/2023 1:00:00 AM</td>\n",
       "      <td>07/01/2023 6:00:00 AM</td>\n",
       "      <td>3,074</td>\n",
       "      <td>3,102</td>\n",
       "      <td>2,314</td>\n",
       "      <td>-788</td>\n",
       "      <td>51.492389</td>\n",
       "      <td>0.974035</td>\n",
       "    </tr>\n",
       "    <tr>\n",
       "      <th>1</th>\n",
       "      <td>07/01/2023</td>\n",
       "      <td>2</td>\n",
       "      <td>07/01/2023 2:00:00 AM</td>\n",
       "      <td>07/01/2023 7:00:00 AM</td>\n",
       "      <td>2,866</td>\n",
       "      <td>2,902</td>\n",
       "      <td>2,239</td>\n",
       "      <td>-663</td>\n",
       "      <td>61.438088</td>\n",
       "      <td>0.814500</td>\n",
       "    </tr>\n",
       "    <tr>\n",
       "      <th>2</th>\n",
       "      <td>07/01/2023</td>\n",
       "      <td>3</td>\n",
       "      <td>07/01/2023 3:00:00 AM</td>\n",
       "      <td>07/01/2023 8:00:00 AM</td>\n",
       "      <td>2,702</td>\n",
       "      <td>2,771</td>\n",
       "      <td>2,286</td>\n",
       "      <td>-485</td>\n",
       "      <td>55.970809</td>\n",
       "      <td>0.902199</td>\n",
       "    </tr>\n",
       "    <tr>\n",
       "      <th>3</th>\n",
       "      <td>07/01/2023</td>\n",
       "      <td>4</td>\n",
       "      <td>07/01/2023 4:00:00 AM</td>\n",
       "      <td>07/01/2023 9:00:00 AM</td>\n",
       "      <td>2,597</td>\n",
       "      <td>2,654</td>\n",
       "      <td>2,347</td>\n",
       "      <td>-307</td>\n",
       "      <td>34.080648</td>\n",
       "      <td>1.000000</td>\n",
       "    </tr>\n",
       "    <tr>\n",
       "      <th>4</th>\n",
       "      <td>07/01/2023</td>\n",
       "      <td>5</td>\n",
       "      <td>07/01/2023 5:00:00 AM</td>\n",
       "      <td>07/01/2023 10:00:00 AM</td>\n",
       "      <td>2,506</td>\n",
       "      <td>2,542</td>\n",
       "      <td>2,281</td>\n",
       "      <td>-261</td>\n",
       "      <td>66.453260</td>\n",
       "      <td>0.734054</td>\n",
       "    </tr>\n",
       "  </tbody>\n",
       "</table>\n",
       "</div>"
      ],
      "text/plain": [
       "    Data Date  Hour Number Local Time at End of Hour UTC Time at End of Hour  \\\n",
       "0  07/01/2023            1     07/01/2023 1:00:00 AM   07/01/2023 6:00:00 AM   \n",
       "1  07/01/2023            2     07/01/2023 2:00:00 AM   07/01/2023 7:00:00 AM   \n",
       "2  07/01/2023            3     07/01/2023 3:00:00 AM   07/01/2023 8:00:00 AM   \n",
       "3  07/01/2023            4     07/01/2023 4:00:00 AM   07/01/2023 9:00:00 AM   \n",
       "4  07/01/2023            5     07/01/2023 5:00:00 AM  07/01/2023 10:00:00 AM   \n",
       "\n",
       "  Demand Forecast (MW) Demand (MW) Net Generation (MW) Total Interchange (MW)  \\\n",
       "0                3,074       3,102               2,314                   -788   \n",
       "1                2,866       2,902               2,239                   -663   \n",
       "2                2,702       2,771               2,286                   -485   \n",
       "3                2,597       2,654               2,347                   -307   \n",
       "4                2,506       2,542               2,281                   -261   \n",
       "\n",
       "   Electricity Cost ($)  Charging Rate  \n",
       "0             51.492389       0.974035  \n",
       "1             61.438088       0.814500  \n",
       "2             55.970809       0.902199  \n",
       "3             34.080648       1.000000  \n",
       "4             66.453260       0.734054  "
      ]
     },
     "execution_count": 99,
     "metadata": {},
     "output_type": "execute_result"
    }
   ],
   "source": [
    "df.head()"
   ]
  },
  {
   "cell_type": "code",
   "execution_count": 97,
   "metadata": {},
   "outputs": [
    {
     "name": "stdout",
     "output_type": "stream",
     "text": [
      "0.6771662647856045\n"
     ]
    }
   ],
   "source": [
    "print(df[\"Charging Rate\"].min())"
   ]
  }
 ],
 "metadata": {
  "kernelspec": {
   "display_name": "Python 3",
   "language": "python",
   "name": "python3"
  },
  "language_info": {
   "codemirror_mode": {
    "name": "ipython",
    "version": 3
   },
   "file_extension": ".py",
   "mimetype": "text/x-python",
   "name": "python",
   "nbconvert_exporter": "python",
   "pygments_lexer": "ipython3",
   "version": "3.11.3"
  },
  "orig_nbformat": 4
 },
 "nbformat": 4,
 "nbformat_minor": 2
}
