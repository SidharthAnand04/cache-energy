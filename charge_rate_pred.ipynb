{
 "cells": [
  {
   "cell_type": "code",
   "execution_count": null,
   "metadata": {},
   "outputs": [],
   "source": [
    "import numpy as np\n",
    "import pandas as pd\n",
    "import requests\n",
    "import random\n",
    "\n",
    "# FVtyMiv9TXSjy0x4O9xmVYE2iksnAlYeEXPaD2sm"
   ]
  },
  {
   "cell_type": "code",
   "execution_count": null,
   "metadata": {},
   "outputs": [],
   "source": [
    "eia_api_key = 'FVtyMiv9TXSjy0x4O9xmVYE2iksnAlYeEXPaD2sm'"
   ]
  },
  {
   "cell_type": "code",
   "execution_count": null,
   "metadata": {},
   "outputs": [],
   "source": [
    "# api_url = f'https://api.eia.gov/v2/electricity/rto/region-data/data/?frequency=hourly&data[0]=value&sort[0][column]=period&sort[0][direction]=desc&offset=0&length=5000&api_key={eia_api_key}'\n",
    "\n",
    "# headers = {\n",
    "#     \"X-Params\": '{\"frequency\": \"hourly\", \"data\": [\"value\"], \"facets\": {}, \"start\": \"2022-10-01T00\", \"end\": \"2023-10-01T00\", \"sort\": [{\"column\": \"period\", \"direction\": \"desc\"}], \"offset\": 0, \"length\": 5000}'\n",
    "# }\n",
    "\n",
    "# response = requests.get(api_url, headers=headers)\n",
    "\n",
    "# if response.status_code == 200:\n",
    "#     data = response.json()\n",
    "\n",
    "# else:\n",
    "#     print(f\"Error: {response.status_code} - {response.text}\")"
   ]
  },
  {
   "cell_type": "code",
   "execution_count": null,
   "metadata": {},
   "outputs": [],
   "source": [
    "# locations = []\n",
    "# types = [item['type-name'] for item in data[\"response\"][\"data\"] if item['type-name'] == 'Demand']\n",
    "\n",
    "# Demand = [item[\"value\"] for item in data[\"response\"][\"data\"] if item['type-name'] == 'Demand']\n",
    "\n",
    "# Total_interchange = [item[\"value\"] for item in data[\"response\"][\"data\"] if item['type-name'] == 'Total Interchange']\n",
    "\n",
    "# Net_generation = [item[\"value\"] for item in data[\"response\"][\"data\"] if item['type-name'] == 'Net Generation']\n",
    "\n",
    "# Day_ahead = [item[\"value\"] for item in data[\"response\"][\"data\"] if item['type-name'] == 'Day-ahead Demand Forecast']\n",
    "\n",
    "\n",
    "\n",
    "# all_values = [item[\"type-name\"] for item in data[\"response\"][\"data\"]]\n",
    "\n",
    "\n",
    "# desired_responses = [\"Day-ahead demand forecast\", \"Net generation\", \"Demand\", \"Total interchange\"]\n",
    "\n",
    "# # Create separate lists for each response\n",
    "# response_data = {}\n",
    "# for response in desired_responses:\n",
    "#     response_data[response] = [item[\"value\"] for item in data[\"response\"][\"data\"] if item['type-name'] == response]\n",
    "\n",
    "# # Print the data for each response\n",
    "# for response, values in response_data.items():\n",
    "#     print(response)\n",
    "#     for value in values:\n",
    "#         print(value)\n",
    "#     print('\\n')\n",
    "\n",
    "# # for value in all_values:\n",
    "# #   print(value)\n",
    "\n",
    "# # for i, (type, value) in enumerate(zip(types, Demand)):\n",
    "# #   print(i, type, value)\n",
    "# #   print('\\n')\n",
    "# #print(types, values)"
   ]
  },
  {
   "cell_type": "code",
   "execution_count": null,
   "metadata": {},
   "outputs": [],
   "source": [
    "max_len = max(len(types), len(Demand), len(Total_interchange), len(Net_generation), len(Day_ahead))\n",
    "\n",
    "# Pad lists with NaN to make them of the same length\n",
    "def pad_list(lst, length):\n",
    "    if len(lst) < length:\n",
    "        return lst + [np.nan] * (length - len(lst))\n",
    "    return lst\n",
    "\n",
    "types = pad_list(types, max_len)\n",
    "Demand = pad_list(Demand, max_len)\n",
    "Total_interchange = pad_list(Total_interchange, max_len)\n",
    "Net_generation = pad_list(Net_generation, max_len)\n",
    "Day_ahead = pad_list(Day_ahead, max_len)\n",
    "\n",
    "# Create the DataFrame\n",
    "data = {\n",
    "    'Type': types,\n",
    "    'Demand': Demand,\n",
    "    'Total Interchange': Total_interchange,\n",
    "    'Net Generation': Net_generation,\n",
    "    'Day-ahead Demand Forecast': Day_ahead\n",
    "}\n",
    "\n",
    "df = pd.DataFrame(data)\n",
    "\n",
    "# Print the DataFrame\n",
    "print(df)"
   ]
  },
  {
   "cell_type": "code",
   "execution_count": null,
   "metadata": {},
   "outputs": [],
   "source": [
    "import pandas as pd\n",
    "import numpy as np"
   ]
  },
  {
   "cell_type": "code",
   "execution_count": null,
   "metadata": {},
   "outputs": [],
   "source": [
    "df = pd.read_csv(\"EIA930_BALANCE_2023_Jul_Dec(3).csv\")\n",
    "df = df.loc[:, 'Data Date':'Total Interchange (MW)']"
   ]
  },
  {
   "cell_type": "code",
   "execution_count": null,
   "metadata": {},
   "outputs": [],
   "source": [
    "def generate_fake_cost():\n",
    "    # Generate random values around $50 with some variation\n",
    "    base_cost = 50\n",
    "    variation = random.uniform(-20, 20) # Varaition, can adjust\n",
    "    return base_cost + variation\n",
    "\n",
    "# Create the 'Electricity Cost ($)' column with fake data\n",
    "df['Electricity Cost ($)'] = [generate_fake_cost() for _ in range(len(df))]"
   ]
  },
  {
   "cell_type": "code",
   "execution_count": null,
   "metadata": {},
   "outputs": [],
   "source": [
    "def calculate_charging_rate(electricity_cost, median_cost):\n",
    "    #Calculate deviation from the median\n",
    "    deviation = electricity_cost - median_cost\n",
    "    \n",
    "    #Charge faster when cost is below the median, slower when above\n",
    "    if deviation < 0:\n",
    "        return 1.0  # Charge at full rate\n",
    "    else:\n",
    "        return max(0.2, 0.2 + (1.0 - 0.2) * (1 - deviation / median_cost))  # Linearly decrease charging rate as cost deviates\n",
    "\n",
    "# Calculate the median electricity cost\n",
    "median_cost = df['Electricity Cost ($)'].median()\n",
    "\n",
    "df['Charging Rate'] = df['Electricity Cost ($)'].apply(lambda x: calculate_charging_rate(x, median_cost))"
   ]
  },
  {
   "cell_type": "code",
   "execution_count": null,
   "metadata": {},
   "outputs": [],
   "source": [
    "df.head()"
   ]
  },
  {
   "cell_type": "code",
   "execution_count": null,
   "metadata": {},
   "outputs": [],
   "source": [
    "print(df[\"Charging Rate\"].min())"
   ]
  }
 ],
 "metadata": {
  "kernelspec": {
   "display_name": "Python 3",
   "language": "python",
   "name": "python3"
  },
  "language_info": {
   "codemirror_mode": {
    "name": "ipython",
    "version": 3
   },
   "file_extension": ".py",
   "mimetype": "text/x-python",
   "name": "python",
   "nbconvert_exporter": "python",
   "pygments_lexer": "ipython3",
   "version": "3.11.3"
  },
  "orig_nbformat": 4
 },
 "nbformat": 4,
 "nbformat_minor": 2
}
